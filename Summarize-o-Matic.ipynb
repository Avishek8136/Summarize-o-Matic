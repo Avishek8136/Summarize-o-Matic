{
 "cells": [
  {
   "cell_type": "markdown",
   "metadata": {},
   "source": [
    "### Importing the required libraries"
   ]
  },
  {
   "cell_type": "code",
   "execution_count": 1,
   "metadata": {},
   "outputs": [],
   "source": [
    "import nltk\n",
    "from nltk import *\n",
    "import re"
   ]
  },
  {
   "cell_type": "markdown",
   "metadata": {},
   "source": [
    "### Required GUI Library"
   ]
  },
  {
   "cell_type": "code",
   "execution_count": 2,
   "metadata": {},
   "outputs": [],
   "source": [
    "import tkinter as tk\n",
    "from tkinter import scrolledtext\n",
    "from tkinter import END"
   ]
  },
  {
   "cell_type": "markdown",
   "metadata": {},
   "source": [
    "### For reading out summary"
   ]
  },
  {
   "cell_type": "code",
   "execution_count": 3,
   "metadata": {},
   "outputs": [],
   "source": [
    "import pyttsx3\n",
    "\n",
    "# Initialize the text-to-speech engine\n",
    "engine = pyttsx3.init()"
   ]
  },
  {
   "cell_type": "code",
   "execution_count": 4,
   "metadata": {},
   "outputs": [],
   "source": [
    "def read_sentence():# will read summary\n",
    "    summary = result_box.get(\"1.0\", \"end-1c\")\n",
    "    engine.say(summary)\n",
    "    engine.runAndWait()\n",
    "\n",
    "def summarize_text():\n",
    "    # Get text from the text box\n",
    "    article_text = text_box.get(\"1.0\", \"end-1c\")\n",
    "\n",
    "    # Removing Square Brackets and Extra Spaces, special characters and digits\n",
    "    article_text = re.sub(r'\\[[0-9]*\\]', ' ', article_text)\n",
    "    article_text = re.sub(r'\\s+', ' ', article_text)\n",
    "    formatted_article_text = re.sub('[^a-zA-Z]', ' ', article_text )\n",
    "    formatted_article_text = re.sub(r'\\s+', ' ', formatted_article_text)\n",
    "\n",
    "    # Converting Tokens to Sentences\n",
    "    sentence_list = sent_tokenize(article_text)\n",
    "\n",
    "    # Saving stopwords into the variable stopwords\n",
    "    stopwords = corpus.stopwords.words('english')\n",
    "\n",
    "    # Counting word frequencies without stopwords\n",
    "    word_frequencies = {}\n",
    "    for word in nltk.word_tokenize(formatted_article_text):\n",
    "        if word not in stopwords:\n",
    "            if word not in word_frequencies.keys():\n",
    "                word_frequencies[word] = 1\n",
    "            else:\n",
    "                word_frequencies[word] += 1\n",
    "\n",
    "    # Finding the weighted frequency\n",
    "    maximum_frequncy = max(word_frequencies.values())\n",
    "\n",
    "    for word in word_frequencies.keys():\n",
    "        word_frequencies[word] = (word_frequencies[word]/maximum_frequncy)\n",
    "    \n",
    "    # Calculating Sentence Scores\n",
    "    sentence_scores = {}\n",
    "    for sent in sentence_list:\n",
    "        for word in nltk.word_tokenize(sent.lower()):\n",
    "            if word in word_frequencies.keys():\n",
    "                if len(sent.split(' ')) < 35:\n",
    "                    if sent not in sentence_scores.keys():\n",
    "                        sentence_scores[sent] = word_frequencies[word]\n",
    "                    else:\n",
    "                        sentence_scores[sent] += word_frequencies[word]\n",
    "\n",
    "    # Generating Summary\n",
    "    import heapq\n",
    "    summary_sentences = heapq.nlargest(7, sentence_scores, key=sentence_scores.get)\n",
    "    summary = ' '.join(summary_sentences)           \n",
    "\n",
    "    # Display summarized text in the result box\n",
    "    result_box.delete(1.0, END)\n",
    "    result_box.insert(END, summary)\n",
    "\n",
    "# GUI setup\n",
    "root = tk.Tk()\n",
    "root.title(\"Summarize-o-Matic\")\n",
    "\n",
    "# Set window size\n",
    "root.geometry(\"1000x800\")\n",
    "\n",
    "# Text box for input\n",
    "text_box = scrolledtext.ScrolledText(root, width=80, height=20, wrap=tk.WORD)\n",
    "text_box.pack(pady=10)\n",
    "\n",
    "# Button to summarize\n",
    "summarize_button = tk.Button(root, text=\"Summarize\", command=summarize_text)\n",
    "summarize_button.pack(pady=5)\n",
    "\n",
    "# Result box for output\n",
    "result_box = scrolledtext.ScrolledText(root, width=80, height=20, wrap=tk.WORD)\n",
    "result_box.pack(pady=10)\n",
    "\n",
    "read_button = tk.Button(root, text=\"Read Out\", command=read_sentence)\n",
    "read_button.pack(pady=20)\n",
    "\n",
    "root.mainloop()"
   ]
  }
 ],
 "metadata": {
  "kernelspec": {
   "display_name": "Python 3",
   "language": "python",
   "name": "python3"
  },
  "language_info": {
   "codemirror_mode": {
    "name": "ipython",
    "version": 3
   },
   "file_extension": ".py",
   "mimetype": "text/x-python",
   "name": "python",
   "nbconvert_exporter": "python",
   "pygments_lexer": "ipython3",
   "version": "3.11.5"
  }
 },
 "nbformat": 4,
 "nbformat_minor": 2
}
